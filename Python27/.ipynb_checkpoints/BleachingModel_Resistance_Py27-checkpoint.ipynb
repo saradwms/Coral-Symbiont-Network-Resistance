{
 "cells": [
  {
   "cell_type": "markdown",
   "metadata": {},
   "source": [
    "# Bleaching Removal Model and Resistance"
   ]
  },
  {
   "cell_type": "markdown",
   "metadata": {},
   "source": [
    "A weighted link removal model to simulate coral bleaching on networks of coral species and Symbiodineacea ITS2 types (In article text, EQ 1). Each link is given a weight based on how much temperatures stress a certain coral-symbiont association can tolerate before the symbiotic interaction is broken. The weight serves as an association-specific temperature threshold. The bleaching model ramps up environmental temperature and links are removed when their weight is exceeded, and a coral species is considered bleached once it is isolated, i.e., it has no more links to symbionts. The bleaching model was applied to the natural networks (global, ocean-basins, and subregions) and compared to four null networks created for each. These null networks are listed below and change either the thermal tolerance distribution or association structure of the networks to address the first objective of this research."
   ]
  },
  {
   "cell_type": "code",
   "execution_count": 1,
   "metadata": {},
   "outputs": [],
   "source": [
    "import os #to use os.chdir\n",
    "#path = \"\" #change to your specific path\n",
    "path = \"Data/\"\n",
    "os.chdir( path ) #set directory\n",
    "#%pwd #output current directory"
   ]
  },
  {
   "cell_type": "code",
   "execution_count": 2,
   "metadata": {},
   "outputs": [
    {
     "name": "stdout",
     "output_type": "stream",
     "text": [
      "2.7.16 |Anaconda, Inc.| (default, Mar 14 2019, 16:24:02) \n",
      "[GCC 4.2.1 Compatible Clang 4.0.1 (tags/RELEASE_401/final)]\n"
     ]
    }
   ],
   "source": [
    "import sys\n",
    "print (sys.version)"
   ]
  },
  {
   "cell_type": "code",
   "execution_count": 3,
   "metadata": {},
   "outputs": [],
   "source": [
    "#import all of the packages that you will need to run the rest of the code\n",
    "import numpy as np\n",
    "import networkx as nx\n",
    "import matplotlib.pyplot as plt\n",
    "import matplotlib\n",
    "import scipy.cluster.hierarchy as hierarchy\n",
    "import math\n",
    "from pylab import figure\n",
    "import pandas as pd\n",
    "from scipy.optimize import curve_fit\n",
    "import scipy as scipy\n",
    "from scipy import stats\n",
    "%matplotlib inline\n",
    "# Font preferences:\n",
    "matplotlib.rc('xtick', labelsize=14) \n",
    "matplotlib.rc('ytick', labelsize=14) \n",
    "matplotlib.rc('font', **{'family':'sans-serif','sans-serif':['Arial']})\n",
    "matplotlib.rc('font', size=16)\n",
    "matplotlib.rc('xtick.major', size=6, width=1)\n",
    "matplotlib.rc('xtick.minor', size=3, width=1)\n",
    "matplotlib.rc('ytick.major', size=6, width=1)\n",
    "matplotlib.rc('ytick.minor', size=3, width=1)\n",
    "matplotlib.rc('axes', linewidth=1)"
   ]
  },
  {
   "cell_type": "markdown",
   "metadata": {},
   "source": [
    "## My custom functions for creating networks from csvs, calculating network stats, the bleaching model, and running multiple simulations of the bleaching model"
   ]
  },
  {
   "cell_type": "code",
   "execution_count": 19,
   "metadata": {},
   "outputs": [],
   "source": [
    "def mygraph(hosts,edges,tols): #this function creates a graph object from nodes,edges, and missing tolerances files\n",
    "   \n",
    "    x=nx.Graph() #create empty graph\n",
    "    #get all the data imported \n",
    "    hostnodes = pd.read_csv(hosts) \n",
    "    symbnodesgood=pd.read_csv('Symbnodes_tols.csv') #the symbionts that had tolerances listed in Swain et al. 2016a\n",
    "    symbnodesrest=pd.read_csv('Symbnodes_notols.csv') #the ones that didn't\n",
    "    \n",
    "    fittols=pd.read_csv(tols)\n",
    "    #combine the tolerance file with the symbionts that need tolerances\n",
    "    symbnodesrest['tols']=fittols['tolerance']\n",
    "    #Add nodes into the graph with their attributes\n",
    "    for row in hostnodes.iterrows():\n",
    "        x.add_node(row[1][0], ocean=row[1][1], name=row[1][2],type=row[1][3],genetic=row[1][4], tolerance=row[1][5])\n",
    "    for row in symbnodesgood.iterrows():\n",
    "        x.add_node(row[1][0], name=row[1][1],type=row[1][2],genetic=row[1][3], tolerance=row[1][4])\n",
    "    for row in symbnodesrest.iterrows():\n",
    "        x.add_node(row[1][0], name=row[1][1],type=row[1][2],genetic=row[1][3], tolerance=row[1][4])\n",
    "        \n",
    "    #now for the edges\n",
    "    edges = pd.read_csv(edges,header=None) #ordered by ocean and then by region in alphabetical order\n",
    "    edge_list=[] #an empty list of edges\n",
    "    thresh_list=[] #an empty list of thresholds\n",
    "    for row in edges.iterrows():\n",
    "        s=row[1][0] #symbiont ID is in first column\n",
    "        h=row[1][1] #Host ID is n second column\n",
    "        MMM=row[1][2] #third column is the mean monthly max temperature\n",
    "        #get the tolerance values from the node attributes\n",
    "        symb_tol=x.node[s]['tolerance'] \n",
    "        host_tol=x.node[h]['tolerance']\n",
    "        #calculate the threshold for each edge based on node pairs\n",
    "        threshvalue=(MMM+(1.5*(symb_tol+host_tol)))\n",
    "        thresh_list.append(threshvalue)\n",
    "        #update the edge list with a weight determined by thresholds\n",
    "        edge_list.append((s,h,{'weight':threshvalue}))\n",
    "    \n",
    "    x.add_edges_from(edge_list) #add edges to the graph object\n",
    "    x.remove_nodes_from(nx.isolates(x)) #there's a few nodes that dont actually have edges, and this was easier than going back through the original excel\n",
    "    \n",
    "    return x\n",
    "\n",
    "def getstats(x): #this function calculates key network statistics for a graph\n",
    "    \n",
    "    xN = x.number_of_nodes() #number of nodes\n",
    "    xL = x.number_of_edges() #number of edges\n",
    "    C = sorted(nx.connected_components(x), key=lambda c: len(c), reverse=True)\n",
    "    C = [len(c) for c in C] ,#components\n",
    "    degrees = x.degree().values() #list of degrees\n",
    "    kmin = min(degrees) #min degree\n",
    "    kmax = max(degrees) #max degree\n",
    "    #used for graphing degree distribution\n",
    "    bin_edges = np.logspace(np.log10(kmin), np.log10(kmax), num=0.2*kmax) \n",
    "    density, _ = np.histogram(degrees, bins=bin_edges, density=True)\n",
    "    return xN, xL, x, C, degrees, kmin, kmax, bin_edges, density,_\n",
    "\n",
    "#Here is the bleaching model: takes a graph object and returns the size of the largest connected component,\n",
    "#the number of nodes removed, and the list of isolated hosts at each temperature step\n",
    "def bleaching(G):\n",
    "    #create a bunch of empty lists\n",
    "    N_g1= [] \n",
    "    nodesremoved=[]\n",
    "    iso=[]\n",
    "    \n",
    "    for i in xrange(0,50): #over the range of the temperature steps, do the following:\n",
    "        G1=G.copy() #as a precaution, copy the graph so that you dont actually change the original one\n",
    "        T=28+0.1*i #for each step, the change of T is 0.1\n",
    "        for j in G1.edges(): #look over the edges\n",
    "            if G1.edge[j[0]][j[1]]['weight']<=T: #when T exceeds the threshold, remove link\n",
    "                G1.remove_edge(j[0],j[1])\n",
    "        C=nx.connected_components(G1) #recalculate the connected components\n",
    "        isolated_nodes=0 #Calculate the isolated nodes\n",
    "        for m in C: #look over the components\n",
    "            if len(m)==1: #if the component is just 1 node\n",
    "                if m[0]<=730: #dont count the symbiont, just add the host nodes whose ID#s go up to 730\n",
    "                    isolated_nodes=isolated_nodes+1 #update the isolated nodes size\n",
    "        iso.append(isolated_nodes) #update isolated host nodes list\n",
    "        N_g1.append(max(map(len, nx.connected_components(G1)))) #recalculate the giant component size\n",
    "        isolates=nx.isolates(G1) #all the isolated nodes\n",
    "        G1.remove_nodes_from(isolates) #remove the isolated nodes from the network\n",
    "        nodesremoved.append(len(isolates)) #total number of nodes removed, including symbionts\n",
    "       \n",
    "        \n",
    "    return N_g1,nodesremoved, iso \n",
    "#run multiple simulations of the bleaching model\n",
    "def Mult_sims_bleaching(sims,hosts,edges): \n",
    "    results_isos=np.zeros((50,sims)) #need a blank matrix of colnum=sims and row num=number of temperature steps which is 50\n",
    "    results_nodes=np.zeros((50,sims))\n",
    "    results_GC=np.zeros((50,sims))\n",
    "    for i in xrange(0,sims): #for all the sims do the following\n",
    "        tols=\"trial\" + str(i+1) + \".csv\" #call the right tolerance file\n",
    "        graph=mygraph(hosts,edges,tols) #make network\n",
    "        GC, nodes, iso = bleaching(graph) #run bleaching model\n",
    "        results_isos[:,i]=iso #update the matrix\n",
    "        results_nodes[:,i]=nodes\n",
    "        results_GC[:,i]=GC\n",
    "    return results_isos, results_nodes, results_GC\n",
    "\n"
   ]
  },
  {
   "cell_type": "markdown",
   "metadata": {},
   "source": [
    "### Let's take a look at the Global Network"
   ]
  },
  {
   "cell_type": "code",
   "execution_count": 20,
   "metadata": {},
   "outputs": [
    {
     "name": "stdout",
     "output_type": "stream",
     "text": [
      "935 nodes\n",
      "1697 links\n",
      "1 min degree\n",
      "335 max degree\n"
     ]
    }
   ],
   "source": [
    "globnet=mygraph(\"Global_host_nodes.csv\",\"Global_edges.csv\",\"trial1.csv\")\n",
    "#get network info\n",
    "G=globnet\n",
    "xN, xL, x, C, degrees, kmin, kmax, bin_edges, density,_ =getstats(G)\n",
    "\n",
    "print xN, \"nodes\"\n",
    "print xL, \"links\"\n",
    "print kmin, \"min degree\"\n",
    "print kmax, \"max degree\"\n",
    "\n"
   ]
  },
  {
   "cell_type": "markdown",
   "metadata": {},
   "source": [
    "## Now run 100 Simulations of the bleaching model\n"
   ]
  },
  {
   "cell_type": "markdown",
   "metadata": {},
   "source": [
    "You need to first create the symbiont tolerance files using the code in the R markdown 'Statistics_and_VisualizationsR35.' The tolerances for symbionts not given tolerances in the swain meta-analysis are pulled from the tolerance distribution. One test file, 'trial1.csv' is provided in this github so that this code can be run with 1 simulation for getting the network information to test that the code is working. "
   ]
  },
  {
   "cell_type": "code",
   "execution_count": 21,
   "metadata": {},
   "outputs": [],
   "source": [
    "#numsims=100\n",
    "numsims=1\n",
    "alltheisos,allremoved,allGC=Mult_sims_bleaching(numsims,\"Global_host_nodes.csv\",\"Global_edges.csv\")\n",
    "alltheisos_caribbean,allremoved_C,allGC_C=Mult_sims_bleaching(numsims,'Global_host_nodes.csv','Caribbean_edges.csv')\n",
    "alltheisos_indian,allremoved_I,allGC_I=Mult_sims_bleaching(numsims,'Global_host_nodes.csv','Indian_edges.csv')\n",
    "alltheisos_pacific,allremoved_P,allGC_P=Mult_sims_bleaching(numsims,\"Global_host_nodes.csv\",\"Pacific_edges.csv\")\n",
    "\n",
    "alltheisos_cc,allremoved_cc,allGC_cc=Mult_sims_bleaching(numsims,'Global_host_nodes.csv','Central_Caribbean_edges.csv')\n",
    "alltheisos_cp,allremoved_cp,allGC_cp=Mult_sims_bleaching(numsims,'Global_host_nodes.csv','Central_Pacific_edges.csv')\n",
    "alltheisos_ec,allremoved_ec,allGC_ec=Mult_sims_bleaching(numsims,'Global_host_nodes.csv','Eastern_Caribbean_edges.csv')\n",
    "alltheisos_ep,allremoved_ep,allGC_ep=Mult_sims_bleaching(numsims,'Global_host_nodes.csv','Eastern_Pacific_edges.csv')\n",
    "alltheisos_gbr,allremoved_gbr,allGC_gbr=Mult_sims_bleaching(numsims,'Global_host_nodes.csv','GBR_edges.csv')\n",
    "alltheisos_j,allremoved_j,allGC_j=Mult_sims_bleaching(numsims,'Global_host_nodes.csv','Japan_edges.csv')\n",
    "alltheisos_ph,allremoved_ph,allGC_ph=Mult_sims_bleaching(numsims,'Global_host_nodes.csv','Phuket_edges.csv')\n",
    "alltheisos_wa,allremoved_wa,allGC_wa=Mult_sims_bleaching(numsims,'Global_host_nodes.csv','Western_Australia_edges.csv')\n",
    "alltheisos_wc,allremoved_wc,allGC_wc=Mult_sims_bleaching(numsims,'Global_host_nodes.csv','Western_Caribbean_edges.csv')\n",
    "alltheisos_wi,allremoved_wi,allGC_wi=Mult_sims_bleaching(numsims,'Global_host_nodes.csv','Western_Indian_edges.csv')\n",
    "\n"
   ]
  },
  {
   "cell_type": "markdown",
   "metadata": {},
   "source": [
    "### Custom Functions for determining the mean of the bleaching results, the confidence interval, and getting the temperature steps for plotting"
   ]
  },
  {
   "cell_type": "code",
   "execution_count": 13,
   "metadata": {},
   "outputs": [],
   "source": [
    "def mymean(isos):\n",
    "    totalhost=max(isos[:,1])\n",
    "    newiso = (isos/totalhost)*100\n",
    "    mean=np.mean(newiso,axis=1)\n",
    "    return mean\n",
    "\n",
    "def myconfint(isos,high,low): #use 97,3\n",
    "    totalhost=max(isos[:,1])\n",
    "    newiso = (isos/totalhost)*100\n",
    "    high_int=np.percentile(newiso,high,1)\n",
    "    low_int=np.percentile(newiso,low,1)\n",
    "    return high_int, low_int\n",
    "\n",
    "def mytemp(init,stepfinal): #use 28,50\n",
    "    Temp=[]\n",
    "    for i in xrange(0,stepfinal):\n",
    "        T=init+0.1*i\n",
    "        Temp.append(T)\n",
    "    return Temp\n",
    "temp=mytemp(28,50)\n",
    "    "
   ]
  },
  {
   "cell_type": "markdown",
   "metadata": {},
   "source": [
    "# Null Models:"
   ]
  },
  {
   "cell_type": "markdown",
   "metadata": {},
   "source": [
    "## Random Symbionts:\n",
    "\n",
    "The symbionts come from the 3 thermal distributions with equal probability. Uses 100 rtrial.csv files from inputs. "
   ]
  },
  {
   "cell_type": "markdown",
   "metadata": {},
   "source": [
    "Function that creates a graph with tolerance files specified:"
   ]
  },
  {
   "cell_type": "code",
   "execution_count": 14,
   "metadata": {},
   "outputs": [],
   "source": [
    "def mygraph_spectols(hosts,edges,symbtols,hosttols): #this function creates a graph object from nodes,edges, and missing tolerances files\n",
    "    \n",
    "    x=nx.Graph() #create empty graph\n",
    "    #get all the data imported \n",
    "    hostnodes = pd.read_csv(hosts) \n",
    "    symbnodesgood=pd.read_csv('Global_symbiontgood_nodes.csv') \n",
    "    symbnodesrest=pd.read_csv('Global_symbiontbad_nodes.csv')\n",
    "    \n",
    "    fittols=pd.read_csv(symbtols)\n",
    "    shuffletols=pd.read_csv(hosttols)\n",
    "    #combine the tolerance file with the symbionts that need tolerances\n",
    "    symbnodesrest['tols']=fittols['tolerance']\n",
    "    hostnodes['tolerance']=shuffletols['shuffled']\n",
    "    #Add nodes into the graph with their attributes\n",
    "    for row in hostnodes.iterrows():\n",
    "        x.add_node(row[1][0], ocean=row[1][1], name=row[1][2],type=row[1][3],genetic=row[1][4], tolerance=row[1][5])\n",
    "    for row in symbnodesgood.iterrows():\n",
    "        x.add_node(row[1][0], name=row[1][1],type=row[1][2],genetic=row[1][3], tolerance=row[1][4])\n",
    "    for row in symbnodesrest.iterrows():\n",
    "        x.add_node(row[1][0], name=row[1][1],type=row[1][2],genetic=row[1][3], tolerance=row[1][4])\n",
    "        \n",
    "    #now for the edges\n",
    "    edges = pd.read_csv(edges,header=None)\n",
    "    edge_list=[] #an empty list of edges\n",
    "    thresh_list=[] #an empty list of thresholds\n",
    "    for row in edges.iterrows():\n",
    "        s=row[1][0] #symbiont ID is in first column\n",
    "        h=row[1][1] #Host ID is n second column\n",
    "        MMM=row[1][2] #third column is the mean monthly max temperature\n",
    "        #get the tolerance values from the node attributes\n",
    "        symb_tol=x.node[s]['tolerance'] \n",
    "        host_tol=x.node[h]['tolerance']\n",
    "        #calculate the threshold for each edge based on node pairs\n",
    "        threshvalue=(MMM)+(1.5*(symb_tol+host_tol))\n",
    "        thresh_list.append(threshvalue)\n",
    "        #update the edge list with a weight determined by thresholds\n",
    "        edge_list.append((s,h,{'weight':threshvalue}))\n",
    "    \n",
    "    x.add_edges_from(edge_list) #add edges to the graph object\n",
    "    x.remove_nodes_from(nx.isolates(x)) #there's a few nodes that dont actually have edges, and this was easier than going back through the original excel\n",
    "    \n",
    "    return x\n",
    "\n",
    "\n"
   ]
  },
  {
   "cell_type": "markdown",
   "metadata": {},
   "source": [
    "Funtion to create the null network with random tolerances from a random uniform distribution:"
   ]
  },
  {
   "cell_type": "code",
   "execution_count": 15,
   "metadata": {},
   "outputs": [],
   "source": [
    "def myrandgraph(nodes,edges): #this function creates a graph object from nodes,edges, and missing tolerances files \n",
    "    #AND assigns tolerances from a random uniform distribution\n",
    "    \n",
    "    x=nx.Graph() #create empty graph\n",
    "    #get all the data imported \n",
    "    nodes = pd.read_csv(nodes) \n",
    "    \n",
    "    #Add nodes into the graph with their attributes\n",
    "    for row in nodes.iterrows():\n",
    "        x.add_node(row[1][0], ocean=row[1][1], name=row[1][2],type=row[1][3],genetic=row[1][4])\n",
    "        \n",
    "    #now for the edges\n",
    "    edges = pd.read_csv(edges,header=None)\n",
    "    edge_list=[] #an empty list of edges\n",
    "    thresh_list=[] #an empty list of thresholds\n",
    "    for row in edges.iterrows():\n",
    "        s=row[1][0] #symbiont ID is in first column\n",
    "        h=row[1][1] #Host ID is n second column\n",
    "        MMM=row[1][2] #third column is the mean monthly max temperature\n",
    "        #get the tolerance values from the node attributes\n",
    "        symb_tol=np.random.random()\n",
    "        host_tol=np.random.random()\n",
    "        #calculate the threshold for each edge based on node pairs\n",
    "        threshvalue=(MMM)+(1.5*(symb_tol+host_tol))\n",
    "        thresh_list.append(threshvalue)\n",
    "        #update the edge list with a weight determined by thresholds\n",
    "        edge_list.append((s,h,{'weight':threshvalue}))\n",
    "    \n",
    "    x.add_edges_from(edge_list) #add edges to the graph object\n",
    "    x.remove_nodes_from(nx.isolates(x)) #there's a few nodes that dont actually have edges, and this was easier than going back through the original excel\n",
    "    \n",
    "    return x"
   ]
  },
  {
   "cell_type": "markdown",
   "metadata": {},
   "source": [
    "The following function simulates bleaching on the random tolerance null networks 100 times and does it for the shuffled symbionts, hosts, hosts and symbionts, or the random uniform model."
   ]
  },
  {
   "cell_type": "code",
   "execution_count": 16,
   "metadata": {},
   "outputs": [],
   "source": [
    "def Mult_sims_random_bleaching(sims,hosts,edges,shuffletype): #combine it all!!!\n",
    "    results_isos=np.zeros((50,sims)) #need a blank matrix of colnum=sims and row num=number of temperature steps which is 60\n",
    "    results_nodes=np.zeros((50,sims))\n",
    "    results_GC=np.zeros((50,sims))\n",
    "    if shuffletype==\"Symbionts\":\n",
    "        for i in xrange(0,sims): #for all the sims do the following\n",
    "            symbtols=\"rtrial\" + str(i+1) + \".csv\" #call the right tolerance file\n",
    "            hosttols=\"hosttolerances_init.csv\"\n",
    "            graph=mygraph_spectols(hosts,edges,symbtols,hosttols) #make graph\n",
    "            meh, nah, iso = bleaching(graph) #run bleaching model\n",
    "            results_isos[:,i]=iso #update the giant ass matrix\n",
    "            results_nodes[:,i]=nah\n",
    "            results_GC[:,i]=meh\n",
    "    if shuffletype==\"Hosts_and_Symbionts\":\n",
    "        for i in xrange(0,sims): #for all the sims do the following\n",
    "            symbtols=\"rtrial\" + str(i+1) + \".csv\" #call the right tolerance file\n",
    "            hosttols=\"hosttolerances\"+str(i+1)+\".csv\"\n",
    "            graph=mygraph_spectols(hosts,edges,symbtols,hosttols) #make graph\n",
    "            meh, nah, iso = bleaching(graph) #run bleaching model\n",
    "            results_isos[:,i]=iso #update the giant ass matrix\n",
    "            results_nodes[:,i]=nah\n",
    "            results_GC[:,i]=meh\n",
    "    if shuffletype==\"Hosts\":\n",
    "        for i in xrange(0,sims): #for all the sims do the following\n",
    "            symbtols=\"trial\" + str(i+1) + \".csv\" #call the right tolerance file\n",
    "            hosttols=\"hosttolerances\"+str(i+1)+\".csv\"\n",
    "            graph=mygraph_spectols(hosts,edges,symbtols,hosttols) #make graph\n",
    "            meh, nah, iso = bleaching(graph) #run bleaching model\n",
    "            results_isos[:,i]=iso #update the giant ass matrix\n",
    "            results_nodes[:,i]=nah\n",
    "            results_GC[:,i]=meh\n",
    "    if shuffletype==\"Random_uniform\":\n",
    "        for i in xrange(0,sims): \n",
    "            graph=myrandgraph(hosts,edges) #make graph, which randomizes tolerances\n",
    "            meh, nah, iso = bleaching(graph) #run bleaching model\n",
    "            results_isos[:,i]=iso #update the results\n",
    "            results_nodes[:,i]=nah\n",
    "            results_GC[:,i]=meh\n",
    "    return results_isos, results_nodes, results_GC"
   ]
  },
  {
   "cell_type": "markdown",
   "metadata": {},
   "source": [
    "## The random bipartite null networks, both degree conserving (DC) and non-degree conserving (NDC).\n",
    "\n",
    "The next two functions get the degree sequence of the hosts and symbiont nodes separately:"
   ]
  },
  {
   "cell_type": "code",
   "execution_count": 17,
   "metadata": {},
   "outputs": [],
   "source": [
    "def hostseq(test):\n",
    "    degrees = test.degree().values()\n",
    "    d=nx.degree(test)\n",
    "    nx.set_node_attributes(test,'degree',d)\n",
    "    hostdegs=np.zeros((1,731))\n",
    "\n",
    "    for node in test.nodes():\n",
    "        if test.node[node]['type']==0 :\n",
    "                hostdegs[0,node]=test.node[node]['degree']\n",
    "    hostdegs=hostdegs[hostdegs!=0]\n",
    "    host_seq=tuple(hostdegs)\n",
    "    new=[]\n",
    "    for c in xrange(0,len(host_seq)):\n",
    "        ugh=host_seq[c]\n",
    "        why=int(ugh)\n",
    "        new.append(why)\n",
    "    host_seq=tuple(new)\n",
    "    return (host_seq)\n",
    "\n",
    "def symbseq(test):\n",
    "    degrees = test.degree().values()\n",
    "    d=nx.degree(test)\n",
    "    nx.set_node_attributes(test,'degree',d)\n",
    "    symbdegs=np.zeros((1,982))\n",
    "    for node in test.nodes():\n",
    "        if test.node[node]['type']==1 :\n",
    "                symbdegs[0,node]=test.node[node]['degree']\n",
    "    symbdegs=symbdegs[symbdegs!=0]\n",
    "    symb_seq=tuple(symbdegs)\n",
    "    new=[]\n",
    "\n",
    "    for c in xrange(0,len(symb_seq)):\n",
    "        ugh=symb_seq[c]\n",
    "        why=int(ugh)\n",
    "        new.append(why)\n",
    "    symb_seq=tuple(new)\n",
    "    return (symb_seq)"
   ]
  },
  {
   "cell_type": "markdown",
   "metadata": {},
   "source": [
    "This function creates the random bipartite null networks (DC and NDC) from the original network:"
   ]
  },
  {
   "cell_type": "code",
   "execution_count": 18,
   "metadata": {},
   "outputs": [],
   "source": [
    "def get_biparnull_nets(nodes,edges, symbtols, hosttols,nulltype):\n",
    "    graph=mygraph(nodes,edges,symbtols) #makes the graph so that you can get the hostseq and symbseq\n",
    "    host_seq=hostseq(graph) #gets degree sequence of hosts\n",
    "    symb_seq=symbseq(graph) #gets degree sequence of symbionts\n",
    "    G=nx.Graph()\n",
    "    #choose which model to run\n",
    "    if nulltype==\"dc\":\n",
    "        x=nx.bipartite_configuration_model(host_seq,symb_seq)\n",
    "        hostnodes=nx.bipartite.sets(x)[0]\n",
    "        hostnodes=list(hostnodes)\n",
    "        symbnodes=nx.bipartite.sets(x)[1]\n",
    "        symbnodes=list(symbnodes)\n",
    "    if nulltype==\"ndc\":\n",
    "        x=nx.bipartite_gnmk_random_graph(len(host_seq), len(symb_seq), graph.number_of_edges(), seed=None, directed=False)\n",
    "        hostnodes=x.nodes()[0:len(host_seq)]\n",
    "        symbnodes=x.nodes()[len(host_seq):len(x.nodes())]\n",
    "    \n",
    "    \n",
    "    symbtols=pd.read_csv(symbtols)\n",
    "    hosttols=pd.read_csv(hosttols)\n",
    "    symbtols=symbtols[0:len(symbnodes)]\n",
    "    hosttols=hosttols[0:len(hostnodes)]\n",
    "    hosttols['ID']=hostnodes\n",
    "    symbtols['ID']=symbnodes\n",
    "    \n",
    "    for row in hosttols.iterrows():\n",
    "        G.add_node(row[1][1], tolerance=row[1][0])\n",
    "    for row in symbtols.iterrows():\n",
    "        G.add_node(row[1][1], tolerance=row[1][0])\n",
    "        \n",
    "    edgesMMM = pd.read_csv(edges,header=None)\n",
    "    edges = x.edges()\n",
    "    edge_list=[]\n",
    "    thresh_list=[]\n",
    "    for i in xrange(0,len(edges)):\n",
    "        MMM=edgesMMM[2][i]\n",
    "        s=edges[i][1]\n",
    "        h=edges[i][0]\n",
    "        symb_tol=G.node[s]['tolerance'] \n",
    "        host_tol=G.node[h]['tolerance']\n",
    "        #calculate the threshold for each edge based on node pairs\n",
    "        threshvalue=(MMM)+(1.5*(symb_tol+host_tol))\n",
    "        thresh_list.append(threshvalue)\n",
    "        edge_list.append((s,h,{'weight':threshvalue}))\n",
    "    \n",
    "    G.add_edges_from(edge_list) #add edges to the graph object\n",
    "    G.remove_nodes_from(nx.isolates(G))\n",
    "    return G\n",
    "    \n",
    "    "
   ]
  },
  {
   "cell_type": "markdown",
   "metadata": {},
   "source": [
    "Function to simulate the bleaching model on the random bipartite null networks 100 times:"
   ]
  },
  {
   "cell_type": "code",
   "execution_count": 19,
   "metadata": {},
   "outputs": [],
   "source": [
    "def Mult_sims_randbipar_bleaching(sims,nodes,edges,nulltype):\n",
    "    results_isos=np.zeros((50,sims)) \n",
    "    results_nodes=np.zeros((50,sims))\n",
    "    results_GC=np.zeros((50,sims))\n",
    "    \n",
    "    for i in xrange(0,sims): #for all the sims do the following\n",
    "        #make new random network each time\n",
    "        G=get_biparnull_nets(nodes,edges,\"symbionttolerances_init.csv\",\"hosttolerances_init.csv\",nulltype)\n",
    "        meh, nah, iso = bleaching(G) #run bleaching model\n",
    "        results_isos[:,i]=iso #update the giant matrix\n",
    "        results_nodes[:,i]=nah\n",
    "        results_GC[:,i]=meh\n",
    "    return results_isos, results_nodes, results_GC"
   ]
  },
  {
   "cell_type": "code",
   "execution_count": 20,
   "metadata": {},
   "outputs": [],
   "source": [
    "def null_networks_model_results(hostnodes,edges):\n",
    "    sims=100\n",
    "    #get all the nulls done that change tolerance\n",
    "    isos_hostssymbsrand,removed_hostssymbsrand,GC_hostssymbsrand=Mult_sims_random_bleaching(100,hostnodes,edges,\"Hosts_and_Symbionts\")\n",
    "    isos_rand,removed_rand,GC_rand=Mult_sims_random_bleaching(100,hostnodes,edges,\"Random_uniform\")\n",
    "    #get nulls that change structure\n",
    "    results_isos_ndc, results_nodes_ndc, results_GC_ndc=Mult_sims_randbipar_bleaching(sims,hostnodes,edges,\"ndc\")\n",
    "    results_isos_dc, results_nodes_dc, results_GC_dc=Mult_sims_randbipar_bleaching(sims,hostnodes,edges,\"dc\")\n",
    "    \n",
    " \n",
    "    return isos_hostssymbsrand,removed_hostssymbsrand,GC_hostssymbsrand, isos_rand,removed_rand,GC_rand, results_isos_ndc, results_nodes_ndc, results_GC_ndc,results_isos_dc, results_nodes_dc, results_GC_dc"
   ]
  },
  {
   "cell_type": "code",
   "execution_count": 21,
   "metadata": {},
   "outputs": [],
   "source": [
    "Gisos_hostssymbsrand,Gremoved_hostssymbsrand,GGC_hostssymbsrand, Gisos_rand,Gremoved_rand,GGC_rand, Gresults_isos_ndc, Gresults_nodes_ndc, Gresults_GC_ndc, Gresults_isos_dc, Gresults_nodes_dc, Gresults_GC_dc = null_networks_model_results(\"Global_host_nodes.csv\",\"Global_edges.csv\")\n",
    "\n",
    "\n",
    "Pisos_hostssymbsrand,Premoved_hostssymbsrand,PGC_hostssymbsrand, Pisos_rand,Premoved_rand,PGC_rand, Presults_isos_ndc, Presults_nodes_ndc, Presults_GC_ndc, Presults_isos_dc, Presults_nodes_dc, Presults_GC_dc = null_networks_model_results(\"Global_host_nodes.csv\",\"Pacific_edges.csv\")\n",
    "Cisos_hostssymbsrand,Cremoved_hostssymbsrand,CGC_hostssymbsrand, Cisos_rand,Cremoved_rand,CGC_rand, Cresults_isos_ndc, Cresults_nodes_ndc, Cresults_GC_ndc, Cresults_isos_dc, Cresults_nodes_dc, Cresults_GC_dc = null_networks_model_results(\"Global_host_nodes.csv\",\"Caribbean_edges.csv\")\n",
    "\n",
    "\n",
    "CCisos_hostssymbsrand,CCremoved_hostssymbsrand,CCGC_hostssymbsrand, CCisos_rand,CCremoved_rand,CCGC_rand, CCresults_isos_ndc, CCresults_nodes_ndc, CCresults_GC_ndc, CCresults_isos_dc, CCresults_nodes_dc, CCresults_GC_dc = null_networks_model_results(\"Global_host_nodes.csv\",\"Central_Caribbean_edges.csv\")\n",
    "CPisos_hostssymbsrand,CPremoved_hostssymbsrand,CPGC_hostssymbsrand, CPisos_rand,CPremoved_rand,CPGC_rand, CPresults_isos_ndc, CPresults_nodes_ndc, CPresults_GC_ndc, CPresults_isos_dc, CPresults_nodes_dc, CPresults_GC_dc = null_networks_model_results(\"Global_host_nodes.csv\",\"Central_Pacific_edges.csv\")\n",
    "ECisos_hostssymbsrand,ECremoved_hostssymbsrand,ECGC_hostssymbsrand, ECisos_rand,ECremoved_rand,ECGC_rand, ECresults_isos_ndc, ECresults_nodes_ndc, ECresults_GC_ndc, ECresults_isos_dc, ECresults_nodes_dc, ECresults_GC_dc = null_networks_model_results(\"Global_host_nodes.csv\",\"Eastern_Caribbean_edges.csv\")\n",
    "EPisos_hostssymbsrand,EPremoved_hostssymbsrand,EPGC_hostssymbsrand, EPisos_rand,EPremoved_rand,EPGC_rand, EPresults_isos_ndc, EPresults_nodes_ndc, EPresults_GC_ndc, EPresults_isos_dc, EPresults_nodes_dc, EPresults_GC_dc = null_networks_model_results(\"Global_host_nodes.csv\",\"Eastern_Pacific_edges.csv\")\n",
    "GBRisos_hostssymbsrand,GBRremoved_hostssymbsrand,GBRGC_hostssymbsrand, GBRisos_rand,GBRremoved_rand,GBRGC_rand, GBRresults_isos_ndc, GBRresults_nodes_ndc, GBRresults_GC_ndc, GBRresults_isos_dc, GBRresults_nodes_dc, GBRresults_GC_dc = null_networks_model_results(\"Global_host_nodes.csv\",\"GBR_edges.csv\")\n",
    "Jisos_hostssymbsrand,Jremoved_hostssymbsrand,JGC_hostssymbsrand, Jisos_rand,Jremoved_rand,JGC_rand, Jresults_isos_ndc, Jresults_nodes_ndc, Jresults_GC_ndc, Jresults_isos_dc, Jresults_nodes_dc, Jresults_GC_dc = null_networks_model_results(\"Global_host_nodes.csv\",\"Japan_edges.csv\")\n",
    "PHisos_hostssymbsrand,PHremoved_hostssymbsrand,PHGC_hostssymbsrand, PHisos_rand,PHremoved_rand,PHGC_rand, PHresults_isos_ndc, PHresults_nodes_ndc, PHresults_GC_ndc, PHresults_isos_dc, PHresults_nodes_dc, PHresults_GC_dc = null_networks_model_results(\"Global_host_nodes.csv\",\"Phuket_edges.csv\")\n",
    "WAisos_hostssymbsrand,WAremoved_hostssymbsrand,WAGC_hostssymbsrand, WAisos_rand,WAremoved_rand,WAGC_rand, WAresults_isos_ndc, WAresults_nodes_ndc, WAresults_GC_ndc, WAresults_isos_dc, WAresults_nodes_dc, WAresults_GC_dc = null_networks_model_results(\"Global_host_nodes.csv\",\"Western_Australia_edges.csv\")\n",
    "WCisos_hostssymbsrand,WCremoved_hostssymbsrand,WCGC_hostssymbsrand, WCisos_rand,WCremoved_rand,WCGC_rand, WCresults_isos_ndc, WCresults_nodes_ndc, WCresults_GC_ndc, WCresults_isos_dc, WCresults_nodes_dc, WCresults_GC_dc = null_networks_model_results(\"Global_host_nodes.csv\",\"Western_Caribbean_edges.csv\")\n",
    "WIisos_hostssymbsrand,WIremoved_hostssymbsrand,WIGC_hostssymbsrand, WIisos_rand,WIremoved_rand,WIGC_rand, WIresults_isos_ndc, WIresults_nodes_ndc, WIresults_GC_ndc, WIresults_isos_dc, WIresults_nodes_dc, WIresults_GC_dc = null_networks_model_results(\"Global_host_nodes.csv\",\"Western_Indian_edges.csv\")\n",
    "\n",
    "\n"
   ]
  },
  {
   "cell_type": "code",
   "execution_count": 22,
   "metadata": {},
   "outputs": [],
   "source": [
    "\n",
    "Iisos_hostssymbsrand,Iremoved_hostssymbsrand,IGC_hostssymbsrand, Iisos_rand,Iremoved_rand,IGC_rand, Iresults_isos_ndc, Iresults_nodes_ndc, Iresults_GC_ndc, Iresults_isos_dc, Iresults_nodes_dc, Iresults_GC_dc = null_networks_model_results(\"Global_host_nodes.csv\",\"Indian_edges.csv\")\n",
    "\n",
    "PHisos_hostssymbsrand,PHremoved_hostssymbsrand,PHGC_hostssymbsrand, PHisos_rand,PHremoved_rand,PHGC_rand, PHresults_isos_ndc, PHresults_nodes_ndc, PHresults_GC_ndc, PHresults_isos_dc, PHresults_nodes_dc, PHresults_GC_dc = null_networks_model_results(\"Global_host_nodes.csv\",\"Phuket_edges.csv\")\n",
    "\n",
    "\n"
   ]
  },
  {
   "cell_type": "markdown",
   "metadata": {
    "collapsed": true
   },
   "source": [
    "## Need a function to calculate Resistance\n",
    "We define resistance as the amount of temperature required for the network to go from 10 to 90 percent of hosts bleached normalized by the maximum temperature change for this range (3). "
   ]
  },
  {
   "cell_type": "code",
   "execution_count": 27,
   "metadata": {},
   "outputs": [],
   "source": [
    "def myresistance(isos,edges):\n",
    "    G=mygraph(\"Global_host_nodes.csv\",edges,\"trial1.csv\")\n",
    "    N, L, G, C, degrees, kmin, kmax, bin_edges, density,_ =getstats(G)\n",
    "    numHosts=len(hostseq(G))\n",
    "    percent_isos=(isos/numHosts)*100\n",
    "    Temp=mytemp(28,50)\n",
    "    \n",
    "    temp_10=[] #get the 10% temperature\n",
    "    jtrack=0\n",
    "    for j in xrange(0,100): #for each simulation\n",
    "        for i in xrange(0,49): #for each temp increase step\n",
    "            if j>jtrack: #so that dont get multiple values per simulation\n",
    "                if percent_isos[i,j]<=10:\n",
    "                    if percent_isos[i+1,j]>= 10:\n",
    "                        temp_10.append(Temp[i])\n",
    "                        jtrack=j\n",
    "                        \n",
    "    temp_90=[] #get the 90% temperature\n",
    "    ktrack=0\n",
    "    for k in xrange(0,100): #for each simulation\n",
    "        for i in xrange(0,49): #for each temp increase step\n",
    "            if k>ktrack: #so that dont get multiple values per simulation\n",
    "                if percent_isos[i,k]<=90:\n",
    "                    if percent_isos[i+1,k]>= 90:\n",
    "                        temp_90.append(Temp[i])\n",
    "                        ktrack=k\n",
    "    #if less than 90% of the corals were bleached at the end of the bleaching simulation, then it wont count a temp_90\n",
    "    #need to add a max temp reading for that missing value. This only happenned 1x in the indian ocean and 2x in the phuket ocean both in the random null model\n",
    "    if len(temp_90)<99:\n",
    "        missing=99-len(temp_90)\n",
    "        for i in xrange(0,missing):\n",
    "            temp_90.append(Temp[49])\n",
    "                        \n",
    "    dtemp=[(x1 - x2)/3 for (x1, x2) in zip(temp_90, temp_10)]\n",
    "    \n",
    "    \n",
    "    return temp_10,temp_90,dtemp"
   ]
  },
  {
   "cell_type": "code",
   "execution_count": 28,
   "metadata": {},
   "outputs": [],
   "source": [
    "def myresistanceall(net_isos,isos_hostssymbsrand,isos_rand,isos_ndc,isos_dc,edges):\n",
    "    net_temp_10, net_temp_90,net_dtemp=myresistance(net_isos,edges)\n",
    "    hsrand_temp_10, hsrand_temp_90,hsrand_dtemp=myresistance(isos_hostssymbsrand,edges)\n",
    "    rand_temp_10, rand_temp_90,rand_dtemp=myresistance(isos_rand,edges)\n",
    "    rbndc_temp_10, rbndc_temp_90,rbndc_dtemp=myresistance(isos_ndc,edges)\n",
    "    rbdc_temp_10, rbdc_temp_90,rbdc_dtemp=myresistance(isos_dc,edges)\n",
    "    \n",
    "    \n",
    "    a=np.column_stack((net_temp_10, net_temp_90,net_dtemp,hsrand_temp_10, hsrand_temp_90,hsrand_dtemp,rand_temp_10, rand_temp_90,rand_dtemp,rbndc_temp_10, rbndc_temp_90,rbndc_dtemp,rbdc_temp_10, rbdc_temp_90,rbdc_dtemp))\n",
    "    df=pd.DataFrame(a)\n",
    "    df.columns=[\"net_temp_10\", \"net_temp_90\",\"net_dtemp\",\"hsrand_temp_10\", \"hsrand_temp_90\",\"hsrand_dtemp\",\"rand_temp_10\", \"rand_temp_90\",\"rand_dtemp\",\"rbndc_temp_10\", \"rbndc_temp_90\",\"rbndc_dtemp\",\"rbdc_temp_10\", \"rbdc_temp_90\",\"rbdc_dtemp\"]\n",
    "    return df"
   ]
  },
  {
   "cell_type": "code",
   "execution_count": 31,
   "metadata": {},
   "outputs": [],
   "source": [
    "g=myresistanceall(alltheisos,Gisos_hostssymbsrand,Gisos_rand,Gresults_isos_ndc,Gresults_isos_dc,\"Global_edges.csv\")\n",
    "\n",
    "\n",
    "Carib=myresistanceall(alltheisos_caribbean,Cisos_hostssymbsrand,Cisos_rand,Cresults_isos_ndc,Cresults_isos_dc,\"Caribbean_edges.csv\")\n",
    "\n",
    "Pacific=myresistanceall(alltheisos_pacific,Pisos_hostssymbsrand,Pisos_rand,Presults_isos_ndc,Presults_isos_dc,\"Pacific_edges.csv\")\n",
    "\n",
    "\n",
    "\n",
    "CC=myresistanceall(alltheisos_cc,CCisos_hostssymbsrand,CCisos_rand,CCresults_isos_ndc,CCresults_isos_dc,\"Central_Caribbean_edges.csv\")\n",
    "\n",
    "CP=myresistanceall(alltheisos_cp,CPisos_hostssymbsrand,CPisos_rand,CPresults_isos_ndc,CPresults_isos_dc,\"Central_Pacific_edges.csv\")\n",
    "\n",
    "\n",
    "EC=myresistanceall(alltheisos_ec,ECisos_hostssymbsrand,ECisos_rand,ECresults_isos_ndc,ECresults_isos_dc,\"Eastern_Caribbean_edges.csv\")\n",
    "\n",
    "EP=myresistanceall(alltheisos_ep,EPisos_hostssymbsrand,EPisos_rand,EPresults_isos_ndc,EPresults_isos_dc,\"Eastern_Pacific_edges.csv\")\n",
    "\n",
    "\n",
    "GBR=myresistanceall(alltheisos_gbr,GBRisos_hostssymbsrand,GBRisos_rand,GBRresults_isos_ndc,GBRresults_isos_dc,\"GBR_edges.csv\")\n",
    "\n",
    "\n",
    "J=myresistanceall(alltheisos_j,Jisos_hostssymbsrand,Jisos_rand,Jresults_isos_ndc,Jresults_isos_dc,\"Japan_edges.csv\")\n",
    "\n",
    "\n",
    "WA=myresistanceall(alltheisos_wa,WAisos_hostssymbsrand,WAisos_rand,WAresults_isos_ndc,WAresults_isos_dc,\"Western_Australia_edges.csv\")\n",
    "\n",
    "\n",
    "WC=myresistanceall(alltheisos_wc,WCisos_hostssymbsrand,WCisos_rand,WCresults_isos_ndc,WCresults_isos_dc,\"Western_Caribbean_edges.csv\")\n",
    "\n",
    "WI=myresistanceall(alltheisos_wi,WIisos_hostssymbsrand,WIisos_rand,WIresults_isos_ndc,WIresults_isos_dc,\"Western_Indian_edges.csv\")\n",
    "\n",
    "Indian=myresistanceall(alltheisos_indian,Iisos_hostssymbsrand,Iisos_rand,Iresults_isos_dc,Iresults_isos_dc,\"Indian_edges.csv\")\n",
    "\n",
    "PH=myresistanceall(alltheisos_ph,PHisos_hostssymbsrand,PHisos_rand,PHresults_isos_ndc,PHresults_isos_dc,\"Phuket_edges.csv\")\n",
    "\n"
   ]
  },
  {
   "cell_type": "code",
   "execution_count": 34,
   "metadata": {},
   "outputs": [],
   "source": [
    "def myresistanceall_summary(net_isos,isos_hostssymbsrand,isos_rand,isos_ndc,isos_dc,edges):\n",
    "    net_temp_10, net_temp_90,net_dtemp=myresistance(net_isos,edges)\n",
    "    hsrand_temp_10, hsrand_temp_90,hsrand_dtemp=myresistance(isos_hostssymbsrand,edges)\n",
    "    rand_temp_10, rand_temp_90,rand_dtemp=myresistance(isos_rand,edges)\n",
    "    rbndc_temp_10, rbndc_temp_90,rbndc_dtemp=myresistance(isos_ndc,edges)\n",
    "    rbdc_temp_10, rbdc_temp_90,rbdc_dtemp=myresistance(isos_dc,edges)\n",
    "    \n",
    "    mean_net_dtemp=np.mean(net_dtemp)\n",
    "    std_net_dtemp=np.std(net_dtemp)\n",
    "    \n",
    "    mean_hsrand_dtemp=np.mean(hsrand_dtemp)\n",
    "    std_hsrand_dtemp=np.std(hsrand_dtemp)\n",
    "    \n",
    "    mean_rand_dtemp=np.mean(rand_dtemp)\n",
    "    std_rand_dtemp=np.std(rand_dtemp)\n",
    "    \n",
    "    mean_rbndc_dtemp=np.mean(rbndc_dtemp)\n",
    "    std_rbndc_dtemp=np.std(rbndc_dtemp)\n",
    "    \n",
    "    mean_rbdc_dtemp=np.mean(rbdc_dtemp)\n",
    "    std_rbdc_dtemp=np.std(rbdc_dtemp)\n",
    "    \n",
    "    a=np.column_stack((mean_net_dtemp,std_net_dtemp,mean_hsrand_dtemp,std_hsrand_dtemp,mean_rand_dtemp,std_rand_dtemp,mean_rbndc_dtemp,std_rbndc_dtemp,mean_rbdc_dtemp,std_rbdc_dtemp))\n",
    "    df=pd.DataFrame(a)\n",
    "    df.columns=[\"mean_net_dtemp\",\"std_net_dtemp\",\"mean_hsrand_dtemp\",\"std_hsrand_dtemp\",\"mean_rand_dtemp\",\"std_rand_dtemp\",\"mean_rbndc_dtemp\",\"std_rbndc_dtemp\",\"mean_rbdc_dtemp\",\"std_rbdc_dtemp\"]\n",
    "    return df"
   ]
  },
  {
   "cell_type": "code",
   "execution_count": 35,
   "metadata": {},
   "outputs": [
    {
     "data": {
      "text/html": [
       "<div>\n",
       "<style scoped>\n",
       "    .dataframe tbody tr th:only-of-type {\n",
       "        vertical-align: middle;\n",
       "    }\n",
       "\n",
       "    .dataframe tbody tr th {\n",
       "        vertical-align: top;\n",
       "    }\n",
       "\n",
       "    .dataframe thead th {\n",
       "        text-align: right;\n",
       "    }\n",
       "</style>\n",
       "<table border=\"1\" class=\"dataframe\">\n",
       "  <thead>\n",
       "    <tr style=\"text-align: right;\">\n",
       "      <th></th>\n",
       "      <th>mean_net_dtemp</th>\n",
       "      <th>std_net_dtemp</th>\n",
       "      <th>mean_hsrand_dtemp</th>\n",
       "      <th>std_hsrand_dtemp</th>\n",
       "      <th>mean_rand_dtemp</th>\n",
       "      <th>std_rand_dtemp</th>\n",
       "      <th>mean_rbndc_dtemp</th>\n",
       "      <th>std_rbndc_dtemp</th>\n",
       "      <th>mean_rbdc_dtemp</th>\n",
       "      <th>std_rbdc_dtemp</th>\n",
       "    </tr>\n",
       "  </thead>\n",
       "  <tbody>\n",
       "    <tr>\n",
       "      <th>0</th>\n",
       "      <td>0.717172</td>\n",
       "      <td>0.020303</td>\n",
       "      <td>0.721886</td>\n",
       "      <td>0.021795</td>\n",
       "      <td>0.891246</td>\n",
       "      <td>0.027457</td>\n",
       "      <td>0.863636</td>\n",
       "      <td>0.020151</td>\n",
       "      <td>0.780471</td>\n",
       "      <td>0.016419</td>\n",
       "    </tr>\n",
       "  </tbody>\n",
       "</table>\n",
       "</div>"
      ],
      "text/plain": [
       "   mean_net_dtemp  std_net_dtemp  mean_hsrand_dtemp  std_hsrand_dtemp  \\\n",
       "0        0.717172       0.020303           0.721886          0.021795   \n",
       "\n",
       "   mean_rand_dtemp  std_rand_dtemp  mean_rbndc_dtemp  std_rbndc_dtemp  \\\n",
       "0         0.891246        0.027457          0.863636         0.020151   \n",
       "\n",
       "   mean_rbdc_dtemp  std_rbdc_dtemp  \n",
       "0         0.780471        0.016419  "
      ]
     },
     "execution_count": 35,
     "metadata": {},
     "output_type": "execute_result"
    }
   ],
   "source": [
    "glob=myresistanceall_summary(alltheisos,Gisos_hostssymbsrand,Gisos_rand,Gresults_isos_ndc,Gresults_isos_dc,\"Global_edges.csv\")\n",
    "glob"
   ]
  },
  {
   "cell_type": "code",
   "execution_count": 23,
   "metadata": {},
   "outputs": [],
   "source": [
    "def mynullsandnetsplot(name,net_isos,randuniform_isos,symbhostsrand_isos,randbipar_dc_isos,randbipar_ndc_isos, legend,ax):\n",
    "    \n",
    "    Temp=mytemp(28,50)\n",
    "    net_mean=mymean(net_isos)\n",
    "    net_high=myconfint(net_isos,97,3)[0]\n",
    "    net_low=myconfint(net_isos,97,3)[1]\n",
    "    randuniform_mean=mymean(randuniform_isos)\n",
    "    randuniform_high=myconfint(randuniform_isos,97,3)[0]\n",
    "    randuniform_low=myconfint(randuniform_isos,97,3)[1]\n",
    "    symbhostsrand_mean=mymean(symbhostsrand_isos)\n",
    "    symbhostsrand_high=myconfint(symbhostsrand_isos,97,3)[0]\n",
    "    symbhostsrand_low=myconfint(symbhostsrand_isos,97,3)[1]\n",
    "    randbipar_dc_mean=mymean(randbipar_dc_isos)\n",
    "    randbipar_dc_high=myconfint(randbipar_dc_isos,97,3)[0]\n",
    "    randbipar_dc_low=myconfint(randbipar_dc_isos,97,3)[1]\n",
    "    randbipar_ndc_mean=mymean(randbipar_ndc_isos)\n",
    "    randbipar_ndc_high=myconfint(randbipar_ndc_isos,97,3)[0]\n",
    "    randbipar_ndc_low=myconfint(randbipar_ndc_isos,97,3)[1]\n",
    "    \n",
    "    #plot!\n",
    "    fig = plt.figure(figsize=(8, 6))\n",
    "    ax.plot(Temp,net_mean,color='black',label='Ocean',linestyle='-',linewidth=1)\n",
    "    ax.fill_between(Temp,net_high,net_low,color='grey',alpha=0.5)\n",
    "    \n",
    "    ax.plot(Temp,randuniform_mean,color='#66c2a4',linestyle='--',linewidth=2, label='Random Uniform')\n",
    "    ax.fill_between(Temp,randuniform_high,randuniform_low,color='#66c2a4',alpha=0.25)\n",
    "    \n",
    "    ax.plot(Temp,symbhostsrand_mean,color='dimgray',linestyle='-',linewidth=2, label='Shuffled Tolerances')\n",
    "    ax.fill_between(Temp,symbhostsrand_high,symbhostsrand_low,color='dimgray',alpha=0.25)\n",
    "\n",
    "    ax.plot(Temp,randbipar_dc_mean,color='#238b45',linestyle='-.',linewidth=3, label='Random Bipartite DC')\n",
    "    plt.fill_between(Temp,randbipar_dc_high,randbipar_dc_low,color='#238b45',alpha=0.25)\n",
    "\n",
    "    ax.plot(Temp,randbipar_ndc_mean,color='#00441b',linestyle=':',linewidth=2, label='Random Bipartite NDC')\n",
    "    ax.fill_between(Temp,randbipar_ndc_high,randbipar_ndc_low,color='#00441b',alpha=0.25)\n",
    "\n",
    "    \n",
    "    ax.set_ylim(0,100)\n",
    "    #ax.set_xlabel('Temperature degrees celsius')\n",
    "    #ax.set_ylabel('Percent of Hosts Bleached')\n",
    "    \n",
    "    ax.set_title(name)\n",
    "    #ax.patch.set_facecolor('#cccccc')\n",
    "\n",
    "\n",
    "    plt.close()\n",
    "    return fig\n",
    "    \n",
    "\n",
    "\n"
   ]
  },
  {
   "cell_type": "code",
   "execution_count": 24,
   "metadata": {},
   "outputs": [
    {
     "data": {
      "image/png": "[encoded data removed]",
      "text/plain": [
       "<Figure size 576x576 with 4 Axes>"
      ]
     },
     "metadata": {
      "needs_background": "light"
     },
     "output_type": "display_data"
    }
   ],
   "source": [
    "legend=\"upper left\"\n",
    "\n",
    "fig,((ax1,ax2),(ax3,ax4))=plt.subplots(nrows=2,ncols=2,sharex='col', sharey='row',figsize=(8,8))\n",
    "mynullsandnetsplot(\"Pacific\",alltheisos_pacific,Pisos_rand,Pisos_hostssymbsrand,Presults_isos_dc,Presults_isos_ndc, 'upper left',ax2)\n",
    "mynullsandnetsplot(\"Global\",alltheisos,Gisos_rand,Gisos_hostssymbsrand,Gresults_isos_dc,Gresults_isos_ndc, 'upper left',ax1)\n",
    "mynullsandnetsplot(\"Indian\",alltheisos_indian,Iisos_rand,Iisos_hostssymbsrand,Iresults_isos_dc,Iresults_isos_ndc, 'upper left',ax3)\n",
    "mynullsandnetsplot(\"Caribbean\",alltheisos_caribbean,Cisos_rand,Cisos_hostssymbsrand,Cresults_isos_dc,Cresults_isos_ndc, 'upper left',ax4)\n",
    "fig.text(0.5, 0.01, 'Temperature, degrees celsius', ha='center')\n",
    "fig.text(0.01, 0.5, 'Percent of hosts bleached', va='center', rotation='vertical')\n",
    "legend=plt.legend( loc = 'upper center', bbox_to_anchor = (0.5, -0.05),ncol=4,\n",
    "            bbox_transform = plt.gcf().transFigure ,fontsize=15)\n",
    "#legend.get_frame().set_facecolor('#cccccc')\n",
    "\n",
    "\n",
    "\n"
   ]
  },
  {
   "cell_type": "markdown",
   "metadata": {},
   "source": [
    "## Addressing Host Specificity\n",
    "\n",
    "In R, I created new nodes for the symbiont hubs, so that the hub is now its degree number of nodes each with only 1 link to a specific host. The tolerances for these split hub nodes are taken from a uniform distribution to account for variation in thermal tolerances.\n",
    "\n",
    "The hubs that were replaced by specific nodes were C3, C1, B1, and D1. "
   ]
  },
  {
   "cell_type": "code",
   "execution_count": 6,
   "metadata": {},
   "outputs": [],
   "source": [
    "def mygraph_hostspecific(hosts,edges,tols): #this function creates a graph object from nodes,edges, and missing tolerances files\n",
    "   \n",
    "    x=nx.Graph() #create empty graph\n",
    "    #get all the data imported \n",
    "    hostnodes = pd.read_csv(hosts) \n",
    "    symbnodesgood=pd.read_csv('Global_symbiontgood_nodes.csv') #the symbionts that had tolerances listed in Swain et al. 2016a\n",
    "    symbnodesrest=pd.read_csv('Global_symbiontbad_nodes.csv') #the ones that didn't\n",
    "    symbnodesspecific=pd.read_csv('HostSpecific_symbnodes.csv')\n",
    "    \n",
    "    fittols=pd.read_csv(tols)\n",
    "    #combine the tolerance file with the symbionts that need tolerances\n",
    "    symbnodesrest['tols']=fittols['tolerance']\n",
    "    #Add nodes into the graph with their attributes\n",
    "    for row in hostnodes.iterrows():\n",
    "        x.add_node(row[1][0], ocean=row[1][1], name=row[1][2],type=row[1][3],genetic=row[1][4], tolerance=row[1][5])\n",
    "    for row in symbnodesgood.iterrows():\n",
    "        x.add_node(row[1][0], name=row[1][1],type=row[1][2],genetic=row[1][3], tolerance=row[1][4])\n",
    "    for row in symbnodesrest.iterrows():\n",
    "        x.add_node(row[1][0], name=row[1][1],type=row[1][2],genetic=row[1][3], tolerance=row[1][4])\n",
    "    #add host specific\n",
    "    for row in symbnodesspecific.iterrows():\n",
    "        x.add_node(row[1][0], name=row[1][1],type=row[1][2],genetic=row[1][3], tolerance=np.random.random())\n",
    "       \n",
    "    #now for the edges\n",
    "    edges = pd.read_csv(edges,header=None) #ordered by ocean and then by region in alphabetical order\n",
    "    edge_list=[] #an empty list of edges\n",
    "    thresh_list=[] #an empty list of thresholds\n",
    "    for row in edges.iterrows():\n",
    "        s=row[1][0] #symbiont ID is in first column\n",
    "        h=row[1][1] #Host ID is in second column\n",
    "        MMM=row[1][2] #third column is the mean monthly max temperature\n",
    "        #get the tolerance values from the node attributes\n",
    "        symb_tol=x.node[s]['tolerance'] \n",
    "        host_tol=x.node[h]['tolerance']\n",
    "        #calculate the threshold for each edge based on node pairs\n",
    "        threshvalue=(MMM+(1.5*(symb_tol+host_tol)))\n",
    "        thresh_list.append(threshvalue)\n",
    "        #update the edge list with a weight determined by thresholds\n",
    "        edge_list.append((s,h,{'weight':threshvalue}))\n",
    "    \n",
    "    x.add_edges_from(edge_list) #add edges to the graph object\n",
    "    x.remove_nodes_from(nx.isolates(x)) #there's a few nodes that dont actually have edges, and this was easier than going back through the original excel\n",
    "    \n",
    "    return x\n",
    "\n",
    "def HS_Mult_sims_bleaching(sims,hosts,edges): \n",
    "    results_isos=np.zeros((50,sims)) #need a blank matrix of colnum=sims and row num=number of temperature steps which is 50\n",
    "    results_nodes=np.zeros((50,sims))\n",
    "    results_GC=np.zeros((50,sims))\n",
    "    for i in xrange(0,sims): #for all the sims do the following\n",
    "        tols=\"trial\" + str(i+1) + \".csv\" #call the right tolerance file\n",
    "        graph=mygraph_hostspecific(hosts,edges,tols) #make network\n",
    "        GC, nodes, iso = bleaching(graph) #run bleaching model\n",
    "        results_isos[:,i]=iso #update the matrix\n",
    "        results_nodes[:,i]=nodes\n",
    "        results_GC[:,i]=GC\n",
    "    return results_isos, results_nodes, results_GC\n",
    "\n",
    "def myresistanceHS(isos,edges):\n",
    "    G=mygraph_hostspecific(\"Global_host_nodes.csv\",edges,\"trial1.csv\")\n",
    "    N, L, G, C, degrees, kmin, kmax, bin_edges, density,_ =getstats(G)\n",
    "    numHosts=len(hostseq(G))\n",
    "    percent_isos=(isos/numHosts)*100\n",
    "    Temp=mytemp(28,50)\n",
    "    \n",
    "    temp_10=[] #get the 10% temperature\n",
    "    jtrack=0\n",
    "    for j in xrange(0,100): #for each simulation\n",
    "        for i in xrange(0,49): #for each temp increase step\n",
    "            if j>jtrack: #so that dont get multiple values per simulation\n",
    "                if percent_isos[i,j]<=10:\n",
    "                    if percent_isos[i+1,j]>= 10:\n",
    "                        temp_10.append(Temp[i])\n",
    "                        jtrack=j\n",
    "                        \n",
    "    temp_90=[] #get the 90% temperature\n",
    "    ktrack=0\n",
    "    for k in xrange(0,100): #for each simulation\n",
    "        for i in xrange(0,49): #for each temp increase step\n",
    "            if k>ktrack: #so that dont get multiple values per simulation\n",
    "                if percent_isos[i,k]<=90:\n",
    "                    if percent_isos[i+1,k]>= 90:\n",
    "                        temp_90.append(Temp[i])\n",
    "                        ktrack=k\n",
    "    #if less than 90% of the corals were bleached at the end of the bleaching simulation, then it wont count a temp_90\n",
    "    #need to add a max temp reading for that missing value. This only happenned 1x in the indian ocean and 2x in the phuket ocean both in the random null model\n",
    "    if len(temp_90)<99:\n",
    "        missing=99-len(temp_90)\n",
    "        for i in xrange(0,missing):\n",
    "            temp_90.append(Temp[49])\n",
    "                        \n",
    "    dtemp=[(x1 - x2)/3 for (x1, x2) in zip(temp_90, temp_10)]\n",
    "    \n",
    "    \n",
    "    return temp_10,temp_90,dtemp\n",
    "\n"
   ]
  },
  {
   "cell_type": "code",
   "execution_count": 7,
   "metadata": {},
   "outputs": [
    {
     "name": "stdout",
     "output_type": "stream",
     "text": [
      "1595 nodes\n",
      "1697 links\n",
      "1 min degree\n",
      "142 max degree\n"
     ]
    }
   ],
   "source": [
    "G_hostspec=mygraph_hostspecific(\"Global_host_nodes.csv\",\"HostSpecific_Globaledges.csv\",\"trial1.csv\")\n",
    "\n",
    "hsxN, hsxL, hsx, hsC, hsdegrees, hskmin, hskmax, hsbin_edges, hsdensity,_ =getstats(G_hostspec)\n",
    "\n",
    "\n",
    "print hsxN, \"nodes\"\n",
    "print hsxL, \"links\"\n",
    "print hskmin, \"min degree\"\n",
    "print hskmax, \"max degree\"\n"
   ]
  },
  {
   "cell_type": "code",
   "execution_count": 10,
   "metadata": {},
   "outputs": [],
   "source": [
    "numsims=100\n",
    "alltheisosHS,allremovedHS,allGCHS=HS_Mult_sims_bleaching(numsims,\"Global_host_nodes.csv\",\"HostSpecific_Globaledges.csv\")\n",
    "\n",
    "\n"
   ]
  },
  {
   "cell_type": "code",
   "execution_count": 11,
   "metadata": {},
   "outputs": [],
   "source": [
    "alltheisos_caribbeanHS,allremoved_CHS,allGC_CHS=HS_Mult_sims_bleaching(numsims,'Global_host_nodes.csv','Caribbean_HSedges.csv')\n",
    "alltheisos_indianHS,allremoved_IHS,allGC_IHS=HS_Mult_sims_bleaching(numsims,'Global_host_nodes.csv','Indian_HSedges.csv')\n",
    "alltheisos_pacificHS,allremoved_PHS,allGC_PHS=HS_Mult_sims_bleaching(numsims,\"Global_host_nodes.csv\",\"Pacific_HSedges.csv\")\n",
    "\n",
    "alltheisos_ccHS,allremoved_ccHS,allGC_ccHS=HS_Mult_sims_bleaching(100,'Global_host_nodes.csv','Central_Caribbean_HSedges.csv')\n",
    "alltheisos_cpHS,allremoved_cpHS,allGC_cpHS=HS_Mult_sims_bleaching(100,'Global_host_nodes.csv','Central_Pacific_HSedges.csv')\n",
    "alltheisos_ecHS,allremoved_ecHS,allGC_ecHS=HS_Mult_sims_bleaching(100,'Global_host_nodes.csv','Eastern_Caribbean_HSedges.csv')\n",
    "alltheisos_epHS,allremoved_epHS,allGC_epHS=HS_Mult_sims_bleaching(100,'Global_host_nodes.csv','Eastern_Pacific_HSedges.csv')\n",
    "alltheisos_gbrHS,allremoved_gbrHS,allGC_gbrHS=HS_Mult_sims_bleaching(100,'Global_host_nodes.csv','Great_Barrier_Reef_HSedges.csv')\n",
    "alltheisos_jHS,allremoved_jHS,allGC_jHS=HS_Mult_sims_bleaching(100,'Global_host_nodes.csv','Japan_HSedges.csv')\n",
    "alltheisos_phHS,allremoved_phHS,allGC_phHS=HS_Mult_sims_bleaching(100,'Global_host_nodes.csv','Phuket_HSedges.csv')\n",
    "alltheisos_waHS,allremoved_waHS,allGC_waHS=HS_Mult_sims_bleaching(100,'Global_host_nodes.csv','Western_Australia_HSedges.csv')\n",
    "alltheisos_wcHS,allremoved_wcHS,allGC_wcHS=HS_Mult_sims_bleaching(100,'Global_host_nodes.csv','Western_Caribbean_HSedges.csv')\n",
    "alltheisos_wiHS,allremoved_wiHS,allGC_wiHS=HS_Mult_sims_bleaching(100,'Global_host_nodes.csv','Western_Indian_HSedges.csv')\n",
    "\n"
   ]
  },
  {
   "cell_type": "code",
   "execution_count": 48,
   "metadata": {},
   "outputs": [],
   "source": [
    "def mynullsandnetsplot_andHS(name,net_isos,randuniform_isos,symbhostsrand_isos,randbipar_dc_isos,randbipar_ndc_isos,HSisos, legend,ax):\n",
    "    \n",
    "    Temp=mytemp(28,50)\n",
    "    net_mean=mymean(net_isos)\n",
    "    net_high=myconfint(net_isos,97,3)[0]\n",
    "    net_low=myconfint(net_isos,97,3)[1]\n",
    "    randuniform_mean=mymean(randuniform_isos)\n",
    "    randuniform_high=myconfint(randuniform_isos,97,3)[0]\n",
    "    randuniform_low=myconfint(randuniform_isos,97,3)[1]\n",
    "    symbhostsrand_mean=mymean(symbhostsrand_isos)\n",
    "    symbhostsrand_high=myconfint(symbhostsrand_isos,97,3)[0]\n",
    "    symbhostsrand_low=myconfint(symbhostsrand_isos,97,3)[1]\n",
    "    randbipar_dc_mean=mymean(randbipar_dc_isos)\n",
    "    randbipar_dc_high=myconfint(randbipar_dc_isos,97,3)[0]\n",
    "    randbipar_dc_low=myconfint(randbipar_dc_isos,97,3)[1]\n",
    "    randbipar_ndc_mean=mymean(randbipar_ndc_isos)\n",
    "    randbipar_ndc_high=myconfint(randbipar_ndc_isos,97,3)[0]\n",
    "    randbipar_ndc_low=myconfint(randbipar_ndc_isos,97,3)[1]\n",
    "    \n",
    "    HS_mean=mymean(HSisos)\n",
    "    HS_high=myconfint(HSisos,97,3)[0]\n",
    "    HS_low=myconfint(HSisos,97,3)[1]\n",
    "    \n",
    "    #plot!\n",
    "    fig = plt.figure(figsize=(8, 6))\n",
    "    ax.plot(Temp,net_mean,color='black',label='Ocean',linestyle='-',linewidth=1)\n",
    "    ax.fill_between(Temp,net_high,net_low,color='grey',alpha=0.5)\n",
    "    \n",
    "    #ax.plot(Temp,randuniform_mean,color='#66c2a4',linestyle='--',linewidth=2, label='Random Uniform')\n",
    "    #ax.fill_between(Temp,randuniform_high,randuniform_low,color='#66c2a4',alpha=0.25)\n",
    "    \n",
    "    #ax.plot(Temp,symbhostsrand_mean,color='dimgray',linestyle='-',linewidth=2, label='Shuffled Tolerances')\n",
    "    #ax.fill_between(Temp,symbhostsrand_high,symbhostsrand_low,color='dimgray',alpha=0.25)\n",
    "\n",
    "    #ax.plot(Temp,randbipar_dc_mean,color='#238b45',linestyle='-.',linewidth=3, label='Random Bipartite DC')\n",
    "    #plt.fill_between(Temp,randbipar_dc_high,randbipar_dc_low,color='#238b45',alpha=0.25)\n",
    "\n",
    "    #ax.plot(Temp,randbipar_ndc_mean,color='#00441b',linestyle=':',linewidth=2, label='Random Bipartite NDC')\n",
    "    #ax.fill_between(Temp,randbipar_ndc_high,randbipar_ndc_low,color='#00441b',alpha=0.25)\n",
    "    \n",
    "    ax.plot(Temp,HS_mean,color='red',linestyle=':',linewidth=2, label='Host Specific')\n",
    "    ax.fill_between(Temp,HS_high,HS_low,color='red',alpha=0.25)\n",
    "\n",
    "\n",
    "    \n",
    "    ax.set_ylim(0,100)\n",
    "    #ax.set_xlabel('Temperature degrees celsius',fontsize=15)\n",
    "    #ax.set_ylabel('Percent of Hosts Bleached',fontsize=15)\n",
    "    \n",
    "    ax.set_title(name)\n",
    "    #ax.patch.set_facecolor('#cccccc')\n",
    "\n",
    "\n",
    "    plt.close()\n",
    "    return fig\n",
    "    "
   ]
  },
  {
   "cell_type": "code",
   "execution_count": 49,
   "metadata": {},
   "outputs": [
    {
     "data": {
      "image/png": "[encoded data removed]",
      "text/plain": [
       "<Figure size 1008x720 with 4 Axes>"
      ]
     },
     "metadata": {
      "needs_background": "light"
     },
     "output_type": "display_data"
    }
   ],
   "source": [
    "legend=\"upper left\"\n",
    "\n",
    "fig,((ax1,ax2),(ax3,ax4))=plt.subplots(nrows=2,ncols=2,sharex='col', sharey='row',figsize=(14,10))\n",
    "mynullsandnetsplot_andHS(\"Pacific\",alltheisos_pacific,Pisos_rand,Pisos_hostssymbsrand,Presults_isos_dc,Presults_isos_ndc,alltheisos_pacificHS, 'upper left',ax2)\n",
    "mynullsandnetsplot_andHS(\"Global\",alltheisos,Gisos_rand,Gisos_hostssymbsrand,Gresults_isos_dc,Gresults_isos_ndc,alltheisosHS, 'upper left',ax1)\n",
    "mynullsandnetsplot_andHS(\"Indian\",alltheisos_indian,Iisos_rand,Iisos_hostssymbsrand,Iresults_isos_dc,Iresults_isos_ndc,alltheisos_indianHS, 'upper left',ax3)\n",
    "mynullsandnetsplot_andHS(\"Caribbean\",alltheisos_caribbean,Cisos_rand,Cisos_hostssymbsrand,Cresults_isos_dc,Cresults_isos_ndc, alltheisos_caribbeanHS,'upper left',ax4)\n",
    "fig.text(0.5, 0.01, 'Temperature, degrees celsius', ha='center',fontsize=15)\n",
    "fig.text(0.01, 0.5, 'Percent of hosts bleached', va='center', rotation='vertical',fontsize=15)\n",
    "legend=plt.legend( loc = 'upper center', bbox_to_anchor = (0.5, -0.05),ncol=4,\n",
    "            bbox_transform = plt.gcf().transFigure ,fontsize=15)\n",
    "#legend.get_frame().set_facecolor('#cccccc')\n",
    "\n",
    "\n",
    "\n",
    "\n"
   ]
  },
  {
   "cell_type": "markdown",
   "metadata": {},
   "source": [
    "Now let's get the resistance values to export:"
   ]
  },
  {
   "cell_type": "code",
   "execution_count": 50,
   "metadata": {},
   "outputs": [],
   "source": [
    "temp_10_Ghs,temp_90_Ghs,dtemp_Ghs=myresistanceHS(alltheisosHS,\"HostSpecific_Globaledges.csv\")\n",
    "temp_10_Ihs,temp_90_Ihs,dtemp_Ihs=myresistanceHS(alltheisos_indianHS,'Indian_HSedges.csv')\n",
    "temp_10_Chs,temp_90_Chs,dtemp_Chs=myresistanceHS(alltheisos_caribbeanHS,\"Caribbean_HSedges.csv\")\n",
    "temp_10_Phs,temp_90_Phs,dtemp_Phs=myresistanceHS(alltheisos_pacificHS,\"Pacific_HSedges.csv\")\n",
    "\n",
    "temp_10_cchs,temp_90_cchs,dtemp_cchs=myresistanceHS(alltheisos_ccHS,\"Central_Caribbean_HSedges.csv\")\n",
    "temp_10_cphs,temp_90_cphs,dtemp_cphs=myresistanceHS(alltheisos_cpHS,\"Central_Pacific_HSedges.csv\")\n",
    "temp_10_wchs,temp_90_wchs,dtemp_wchs=myresistanceHS(alltheisos_wcHS,\"Western_Caribbean_HSedges.csv\")\n",
    "temp_10_echs,temp_90_echs,dtemp_echs=myresistanceHS(alltheisos_ecHS,\"Eastern_Caribbean_HSedges.csv\")\n",
    "temp_10_gbrhs,temp_90_gbrhs,dtemp_gbrhs=myresistanceHS(alltheisos_gbrHS,\"Great_Barrier_Reef_HSedges.csv\")\n",
    "temp_10_phhs,temp_90_phhs,dtemp_phhs=myresistanceHS(alltheisos_phHS,\"Phuket_HSedges.csv\")\n",
    "temp_10_jhs,temp_90_jhs,dtemp_jhs=myresistanceHS(alltheisos_jHS,\"Japan_HSedges.csv\")\n",
    "temp_10_wahs,temp_90_wahs,dtemp_wahs=myresistanceHS(alltheisos_waHS,\"Western_Australia_HSedges.csv\")\n",
    "temp_10_wihs,temp_90_wihs,dtemp_wihs=myresistanceHS(alltheisos_wiHS,\"Western_indian_HSedges.csv\")"
   ]
  },
  {
   "cell_type": "code",
   "execution_count": 53,
   "metadata": {},
   "outputs": [],
   "source": [
    "a=np.column_stack((dtemp_Ghs,dtemp_Ihs,dtemp_Chs,dtemp_Phs,dtemp_cchs,dtemp_cphs,dtemp_wchs,dtemp_echs,dtemp_gbrhs,dtemp_phhs,dtemp_jhs,dtemp_wahs,dtemp_wihs))\n",
    "df=pd.DataFrame(a)\n",
    "df.columns=[\"dtemp_Ghs\",\"dtemp_Ihs\",\"dtemp_Chs\",\"dtemp_Phs\",\"dtemp_cchs\",\"dtemp_cphs\",\"dtemp_wchs\",\"dtemp_echs\",\"dtemp_gbrhs\",\"dtemp_phhs\",\"dtemp_jhs\",\"dtemp_wahs\",\"dtemp_wihs\"]\n"
   ]
  },
  {
   "cell_type": "markdown",
   "metadata": {},
   "source": [
    "# A generalized global network"
   ]
  },
  {
   "cell_type": "markdown",
   "metadata": {},
   "source": [
    "I took out all spatial aspects of the network. Hosts and symbionts have the same inclusion parameters, and the network represents all possible combinations of symbionts and species on a global scale regardless of spatial restrictions. However, this means that environmental temperature cannot be included. Thus, the weight is now just the average of the host and symbiont tolerance."
   ]
  },
  {
   "cell_type": "code",
   "execution_count": 8,
   "metadata": {},
   "outputs": [],
   "source": [
    "def mygraph_general(hosts,edges,tols): #this function creates a graph object from nodes,edges, and missing tolerances files\n",
    "   \n",
    "    x=nx.Graph() #create empty graph\n",
    "    #get all the data imported \n",
    "    hostnodes = pd.read_csv(hosts) \n",
    "    symbnodesgood=pd.read_csv('Global_symbiontgood_nodes.csv') #the symbionts that had tolerances listed in Swain et al. 2016a\n",
    "    symbnodesrest=pd.read_csv('Global_symbiontbad_nodes.csv') #the ones that didn't\n",
    "    \n",
    "    fittols=pd.read_csv(tols)\n",
    "    #combine the tolerance file with the symbionts that need tolerances\n",
    "    symbnodesrest['tols']=fittols['tolerance']\n",
    "    #Add nodes into the graph with their attributes\n",
    "    for row in hostnodes.iterrows():\n",
    "        x.add_node(row[1][0], name=row[1][1],type=row[1][2], tolerance=row[1][3])\n",
    "    for row in symbnodesgood.iterrows():\n",
    "        x.add_node(row[1][0], name=row[1][1],type=row[1][2],genetic=row[1][3], tolerance=row[1][4])\n",
    "    for row in symbnodesrest.iterrows():\n",
    "        x.add_node(row[1][0], name=row[1][1],type=row[1][2],genetic=row[1][3], tolerance=row[1][4])\n",
    "        \n",
    "    #now for the edges\n",
    "    edges = pd.read_csv(edges,header=None) #ordered by ocean and then by region in alphabetical order\n",
    "    edge_list=[] #an empty list of edges\n",
    "    thresh_list=[] #an empty list of thresholds\n",
    "    for row in edges.iterrows():\n",
    "        s=row[1][0] #symbiont ID is in first column\n",
    "        h=row[1][1] #Host ID is n second column\n",
    "        #get the tolerance values from the node attributes\n",
    "        symb_tol=x.node[s]['tolerance'] \n",
    "        host_tol=x.node[h]['tolerance']\n",
    "        #calculate the threshold for each edge based on node pairs\n",
    "        threshvalue=((0.5*(symb_tol+host_tol)))\n",
    "        thresh_list.append(threshvalue)\n",
    "        #update the edge list with a weight determined by thresholds\n",
    "        edge_list.append((s,h,{'weight':threshvalue}))\n",
    "    \n",
    "    x.add_edges_from(edge_list) #add edges to the graph object\n",
    "    x.remove_nodes_from(nx.isolates(x)) #there's a few nodes that dont actually have edges, and this was easier than going back through the original excel\n",
    "    \n",
    "    return x"
   ]
  },
  {
   "cell_type": "code",
   "execution_count": 9,
   "metadata": {},
   "outputs": [],
   "source": [
    "Ggen=mygraph_general(\"generalized_global_hostnodes.csv\",\"generalized_global_edges.csv\",\"trial1.csv\")"
   ]
  },
  {
   "cell_type": "code",
   "execution_count": 10,
   "metadata": {},
   "outputs": [
    {
     "name": "stdout",
     "output_type": "stream",
     "text": [
      "606 nodes\n",
      "1322 links\n",
      "1 min degree\n",
      "208 max degree\n"
     ]
    }
   ],
   "source": [
    "xN, xL, x, C, degrees, kmin, kmax, bin_edges, density,_ =getstats(Ggen)\n",
    "\n",
    "print xN, \"nodes\"\n",
    "print xL, \"links\"\n",
    "print kmin, \"min degree\"\n",
    "print kmax, \"max degree\"\n"
   ]
  },
  {
   "cell_type": "code",
   "execution_count": 12,
   "metadata": {
    "scrolled": true
   },
   "outputs": [
    {
     "name": "stderr",
     "output_type": "stream",
     "text": [
      "Calculating best minimal value for power law fit\n",
      "Assuming nested distributions\n"
     ]
    },
    {
     "name": "stdout",
     "output_type": "stream",
     "text": [
      "(-0.031637798715239196, 0.8013916837556763) power law vs truncated\n",
      "(-76.55744711194367, 0.0012158303665313528) exponential vs truncated\n",
      "(-1.0489230048061882, 0.32871291634116073) stretched exponential vs truncated\n",
      "(-0.057775139471285986, 0.34747679095269157) lognormal vs truncated\n"
     ]
    }
   ],
   "source": [
    "import powerlaw\n",
    "globnet=mygraph(\"Global_host_nodes.csv\",\"Global_edges.csv\",\"trial1.csv\")\n",
    "#get network info\n",
    "G=Ggen #Switch for different networks\n",
    "xN, xL, x, C, degrees, kmin, kmax, bin_edges, density,_ =getstats(G)\n",
    "\n",
    "\n",
    "degs=np.array(degrees)\n",
    "#get fit\n",
    "fit = powerlaw.Fit(degs, discrete=True)\n",
    "print fit.distribution_compare('power_law', 'truncated_power_law'), \"power law vs truncated\"\n",
    "print fit.distribution_compare('exponential', 'truncated_power_law'), \"exponential vs truncated\"\n",
    "print fit.distribution_compare('stretched_exponential', 'truncated_power_law'), \"stretched exponential vs truncated\"\n",
    "print fit.distribution_compare('lognormal', 'truncated_power_law'), \"lognormal vs truncated\"\n",
    "\n"
   ]
  },
  {
   "cell_type": "code",
   "execution_count": 13,
   "metadata": {},
   "outputs": [],
   "source": [
    "def get_degree_distribution_binning(data):\n",
    "    # Implement a function that from a vector of data (e.g. the degrees of your nodes)\n",
    "    # create nb bins either using linear binning (log=False, the default value) or by using log binning in base 10 \n",
    "    # (log=True).\n",
    "    # Your function must return you vectors:\n",
    "    #   xs: the the midpoint of each bin\n",
    "    #   ys: the height of each bin \n",
    "    \n",
    "    # Your code\n",
    "    degrees=data\n",
    "    kmax=max(degrees)\n",
    "    kmin=min(degrees)\n",
    "    if kmin<1:\n",
    "        kmin=1\n",
    "    N=len(degrees)\n",
    "    Num=50\n",
    "    #bin_edges = np.logspace(np.log10(kmin), np.log10(kmax), num=Num) #xs\n",
    "    bin_edges=np.linspace(kmin,kmax,num=Num) #so now using linear\n",
    "    density, _ = np.histogram(degrees, bins=bin_edges, density=True) #ys\n",
    "    #now need to get stuff for log log\n",
    "    logbin_edges=np.logspace(np.log10(kmin),np.log10(kmax),num=Num) #so now using linear\n",
    "    logdensity, _ = np.histogram(degrees, bins=logbin_edges, density=True) #ys\n",
    "    binwidth=np.diff(logbin_edges)\n",
    "    prob=(binwidth*logdensity)\n",
    "    cummulative=np.cumsum(prob[::-1])[::-1]\n",
    "    return bin_edges, density,_, cummulative, logbin_edges\n",
    "\n"
   ]
  },
  {
   "cell_type": "code",
   "execution_count": 16,
   "metadata": {},
   "outputs": [],
   "source": [
    "xN, xL, x, C, degrees, kmin, kmax, bin_edges, density,_ =getstats(globnet)\n",
    "\n",
    "bin_edges,density,_,cummulative,logbin_edges=get_degree_distribution_binning(degrees)"
   ]
  },
  {
   "cell_type": "code",
   "execution_count": 18,
   "metadata": {},
   "outputs": [],
   "source": [
    "def hostseq(test):\n",
    "    degrees = test.degree().values()\n",
    "    d=nx.degree(test)\n",
    "    nx.set_node_attributes(test,'degree',d)\n",
    "    hostdegs=np.zeros((1,731))\n",
    "\n",
    "    for node in test.nodes():\n",
    "        if test.node[node]['type']==0 :\n",
    "                hostdegs[0,node]=test.node[node]['degree']\n",
    "    hostdegs=hostdegs[hostdegs!=0]\n",
    "    host_seq=tuple(hostdegs)\n",
    "    new=[]\n",
    "    for c in xrange(0,len(host_seq)):\n",
    "        ugh=host_seq[c]\n",
    "        why=int(ugh)\n",
    "        new.append(why)\n",
    "    host_seq=tuple(new)\n",
    "    return (host_seq)\n",
    "\n",
    "def symbseq(test):\n",
    "    degrees = test.degree().values()\n",
    "    d=nx.degree(test)\n",
    "    nx.set_node_attributes(test,'degree',d)\n",
    "    symbdegs=np.zeros((1,982))\n",
    "    for node in test.nodes():\n",
    "        if test.node[node]['type']==1 :\n",
    "                symbdegs[0,node]=test.node[node]['degree']\n",
    "    symbdegs=symbdegs[symbdegs!=0]\n",
    "    symb_seq=tuple(symbdegs)\n",
    "    new=[]\n",
    "\n",
    "    for c in xrange(0,len(symb_seq)):\n",
    "        ugh=symb_seq[c]\n",
    "        why=int(ugh)\n",
    "        new.append(why)\n",
    "    symb_seq=tuple(new)\n",
    "    return (symb_seq)\n",
    "\n",
    "hostdegs=hostseq(globnet)\n",
    "symbdegs=symbseq(globnet)"
   ]
  },
  {
   "cell_type": "code",
   "execution_count": 19,
   "metadata": {},
   "outputs": [
    {
     "data": {
      "image/png": "[encoded data removed]",
      "text/plain": [
       "<Figure size 432x288 with 1 Axes>"
      ]
     },
     "metadata": {
      "needs_background": "light"
     },
     "output_type": "display_data"
    }
   ],
   "source": [
    "Hbin_edges,Hdensity,_,Hcummulative,Hlogbin_edges=get_degree_distribution_binning(hostdegs)\n",
    "\n",
    "Sbin_edges,Sdensity,_,Scummulative,Slogbin_edges=get_degree_distribution_binning(symbdegs)\n",
    "\n",
    "G_hostspec=mygraph_hostspecific(\"Global_host_nodes.csv\",\"HostSpecific_Globaledges.csv\",\"trial1.csv\")\n",
    "hsxN, hsxL, hsx, hsC, hsdegrees, hskmin, hskmax, hsbin_edges, hsdensity,_ =getstats(G_hostspec)\n",
    "HSbin_edges,HSdensity,_,HScummulative,HSlogbin_edges=get_degree_distribution_binning(hsdegrees)\n",
    "\n",
    "genxN, genxL, genx, genC, gendegrees, genkmin, genkmax, genbin_edges, gendensity,_ =getstats(Ggen)\n",
    "genbin_edges,gendensity,_,gencummulative,genlogbin_edges=get_degree_distribution_binning(gendegrees)\n",
    "\n",
    "plt.loglog(Slogbin_edges[:-1], Scummulative, marker='o', linestyle='none', color='yellow', label=\"Symbionts\")\n",
    "plt.loglog(Hlogbin_edges[:-1], Hcummulative, marker='o', linestyle='none', color='blue', label=\"Hosts\")\n",
    "plt.loglog(logbin_edges[:-1], cummulative, marker='o', linestyle='none', color='green', label=\"Combined\")\n",
    "plt.loglog(HSlogbin_edges[:-1], HScummulative, marker='o', linestyle='none', color='black', label=\"Host Specific Network\")\n",
    "plt.loglog(genlogbin_edges[:-1], gencummulative, marker='o', linestyle='none', color='grey', label=\"Generalized\")\n",
    "\n",
    "\n",
    "\n",
    "plt.xlabel(\"Degree, k\")\n",
    "plt.ylabel( u'P(K) ≤ k')\n",
    "legend=plt.legend( loc = 'upper center', bbox_to_anchor = (0.5, -0.05),ncol=2,\n",
    "            bbox_transform = plt.gcf().transFigure ,fontsize=15)\n",
    "\n",
    "\n",
    "\n"
   ]
  },
  {
   "cell_type": "code",
   "execution_count": null,
   "metadata": {},
   "outputs": [],
   "source": []
  }
 ],
 "metadata": {
  "kernelspec": {
   "display_name": "Python 2",
   "language": "python",
   "name": "python2"
  },
  "language_info": {
   "codemirror_mode": {
    "name": "ipython",
    "version": 2
   },
   "file_extension": ".py",
   "mimetype": "text/x-python",
   "name": "python",
   "nbconvert_exporter": "python",
   "pygments_lexer": "ipython2",
   "version": "2.7.16"
  }
 },
 "nbformat": 4,
 "nbformat_minor": 2
}
